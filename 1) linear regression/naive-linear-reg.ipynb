{
  "nbformat": 4,
  "nbformat_minor": 0,
  "metadata": {
    "colab": {
      "provenance": []
    },
    "kernelspec": {
      "name": "python3",
      "display_name": "Python 3"
    },
    "language_info": {
      "name": "python"
    }
  },
  "cells": [
    {
      "cell_type": "markdown",
      "source": [
        "# 📈 **AI Linear Regression** 🚀\n",
        "\n",
        "chapter 1: **PyTorch Workflow Fundamentals**\n",
        "\n",
        "https://www.youtube.com/watch?v=Z_ikDlimN6A"
      ],
      "metadata": {
        "id": "kP9Fk6dL06TM"
      }
    },
    {
      "cell_type": "markdown",
      "source": [
        "# Imports"
      ],
      "metadata": {
        "id": "QrVubSM-qAPT"
      }
    },
    {
      "cell_type": "code",
      "source": [
        "import torch\n",
        "import numpy as np\n",
        "from torch import nn\n",
        "import matplotlib.pyplot as plt"
      ],
      "metadata": {
        "id": "rSF_cTV105lg"
      },
      "execution_count": 1,
      "outputs": []
    },
    {
      "cell_type": "markdown",
      "source": [
        "# Device"
      ],
      "metadata": {
        "id": "sYTX5RMmzxGi"
      }
    },
    {
      "cell_type": "code",
      "source": [
        "# Setup device agnostic code\n",
        "device = \"cuda\" if torch.cuda.is_available() else \"cpu\"\n",
        "print(f\"Using device: {device}\")"
      ],
      "metadata": {
        "colab": {
          "base_uri": "https://localhost:8080/"
        },
        "id": "VaWd0LPRz5ld",
        "outputId": "b8c70ccf-8e72-4052-c9ae-3c472e671e3a"
      },
      "execution_count": 2,
      "outputs": [
        {
          "output_type": "stream",
          "name": "stdout",
          "text": [
            "Using device: cpu\n"
          ]
        }
      ]
    },
    {
      "cell_type": "markdown",
      "source": [
        "# Data preparation"
      ],
      "metadata": {
        "id": "KQ_vBJVu1YXO"
      }
    },
    {
      "cell_type": "code",
      "source": [
        "# Create *known* parameters\n",
        "weight = 0.7\n",
        "bias = 0.3\n",
        "\n",
        "# Create Data (start = 0, end = 1, step = 0.02)\n",
        "X = torch.arange(0, 1, 0.02).unsqueeze(dim=1)\n",
        "y = weight * X + bias \n",
        "\n",
        "print(\n",
        "f'''\n",
        "    X set:\n",
        "    {X[:10]}\n",
        "\n",
        "    y set:\n",
        "    {y[:10]}\n",
        "'''\n",
        ")"
      ],
      "metadata": {
        "colab": {
          "base_uri": "https://localhost:8080/"
        },
        "id": "V1qRRatG1a0-",
        "outputId": "50245cf5-cd79-4e5a-9b13-1613796fd3f4"
      },
      "execution_count": 3,
      "outputs": [
        {
          "output_type": "stream",
          "name": "stdout",
          "text": [
            "\n",
            "    X set:\n",
            "    tensor([[0.0000],\n",
            "        [0.0200],\n",
            "        [0.0400],\n",
            "        [0.0600],\n",
            "        [0.0800],\n",
            "        [0.1000],\n",
            "        [0.1200],\n",
            "        [0.1400],\n",
            "        [0.1600],\n",
            "        [0.1800]])\n",
            "\n",
            "    y set:\n",
            "    tensor([[0.3000],\n",
            "        [0.3140],\n",
            "        [0.3280],\n",
            "        [0.3420],\n",
            "        [0.3560],\n",
            "        [0.3700],\n",
            "        [0.3840],\n",
            "        [0.3980],\n",
            "        [0.4120],\n",
            "        [0.4260]])\n",
            "\n"
          ]
        }
      ]
    },
    {
      "cell_type": "markdown",
      "source": [
        "# train/test split\n"
      ],
      "metadata": {
        "id": "MBebT4l31qJj"
      }
    },
    {
      "cell_type": "code",
      "source": [
        "# Create training and testing set\n",
        "train_split = int(0.8 * len(X))\n",
        "X_train, y_train = X[:train_split], y[:train_split]\n",
        "X_test, y_test = X[train_split:], y[train_split:] \n",
        "\n",
        "\n",
        "print(\n",
        "f'''\n",
        "    X_train length: {len(X_train)}\n",
        "    X_test length: {len(X_test)}\n",
        "    \n",
        "    y_train length: {len(y_train)}\n",
        "    y_test length: {len(y_test)}\n",
        "'''\n",
        ")\n"
      ],
      "metadata": {
        "colab": {
          "base_uri": "https://localhost:8080/"
        },
        "id": "qsFBrfRd1sm-",
        "outputId": "cd2aede3-a1da-4990-9625-5860be3a7f2d"
      },
      "execution_count": 4,
      "outputs": [
        {
          "output_type": "stream",
          "name": "stdout",
          "text": [
            "\n",
            "    X_train length: 40\n",
            "    X_test length: 10\n",
            "    \n",
            "    y_train length: 40\n",
            "    y_test length: 10\n",
            "\n"
          ]
        }
      ]
    },
    {
      "cell_type": "markdown",
      "source": [
        "# data visualization"
      ],
      "metadata": {
        "id": "NEr4VlqB3cLb"
      }
    },
    {
      "cell_type": "code",
      "source": [
        "def visualize(\n",
        "    train_data=X_train,\n",
        "    train_labels=y_train,\n",
        "    test_data=X_test,\n",
        "    test_labels=y_test,\n",
        "    predictions=None):\n",
        "    \n",
        "    \"\"\" Plots training data, test data and compares predictions \"\"\"\n",
        "\n",
        "    plt.figure(figsize=(10, 7))\n",
        "\n",
        "    # Plot training data in blue\n",
        "    plt.scatter(train_data, train_labels, c=\"b\", s=4, label=\"Training data\")\n",
        "\n",
        "    # Plot test data in cyan\n",
        "    plt.scatter(test_data, test_labels, c=\"c\", s=4, label=\"Testing data\")\n",
        "\n",
        "    # Plot the predictions in red if they exist\n",
        "    if predictions is not None: \n",
        "        plt.scatter(test_data, predictions, c=\"r\", s=4, label=\"Predictions\")\n",
        "  \n",
        "    # Show the legend\n",
        "    plt.legend(prop={\"size\": 14});\n",
        "\n",
        "visualize();"
      ],
      "metadata": {
        "colab": {
          "base_uri": "https://localhost:8080/",
          "height": 428
        },
        "id": "TojOsyld3eL9",
        "outputId": "806233d9-0f5d-4589-bd22-c9d2248305dd"
      },
      "execution_count": 5,
      "outputs": [
        {
          "output_type": "display_data",
          "data": {
            "text/plain": [
              "<Figure size 720x504 with 1 Axes>"
            ],
            "image/png": "[encoded data removed]"
          },
          "metadata": {
            "needs_background": "light"
          }
        }
      ]
    },
    {
      "cell_type": "markdown",
      "source": [
        "# Model building"
      ],
      "metadata": {
        "id": "zD9-2YXF4K_f"
      }
    },
    {
      "cell_type": "code",
      "source": [
        "from torch import nn\n",
        "\n",
        "class LinearRegressionModel(nn.Module):\n",
        "\n",
        "    def __init__(self):\n",
        "        super().__init__()\n",
        "        # we start with a random weight parameters, they are updated via gradient descent\n",
        "        self.weight = nn.Parameter(torch.randn(1, requires_grad=True, dtype=torch.float)) \n",
        "        self.bias = nn.Parameter(torch.randn(1, requires_grad=True, dtype=torch.float)) \n",
        "    \n",
        "    # Forward methoddefines the computation in the model\n",
        "    def forward(self, x: torch.Tensor) -> torch.Tensor:\n",
        "        return self.weight * x + self.bias "
      ],
      "metadata": {
        "id": "63Jj1F544MUA"
      },
      "execution_count": 6,
      "outputs": []
    },
    {
      "cell_type": "markdown",
      "source": [
        "# Parameter exploration"
      ],
      "metadata": {
        "id": "Jz07qzun5KJP"
      }
    },
    {
      "cell_type": "code",
      "source": [
        "# Create a random seed\n",
        "torch.manual_seed(42)\n",
        "\n",
        "# Create an instance of the model\n",
        "model = LinearRegressionModel()\n",
        "\n",
        "# List named parameters\n",
        "model.state_dict()"
      ],
      "metadata": {
        "colab": {
          "base_uri": "https://localhost:8080/"
        },
        "id": "t8NC1tsS5NE0",
        "outputId": "908c301e-7a8a-4760-ae9e-eeb0f84634e4"
      },
      "execution_count": 7,
      "outputs": [
        {
          "output_type": "execute_result",
          "data": {
            "text/plain": [
              "OrderedDict([('weight', tensor([0.3367])), ('bias', tensor([0.1288]))])"
            ]
          },
          "metadata": {},
          "execution_count": 7
        }
      ]
    },
    {
      "cell_type": "markdown",
      "source": [
        "# Prediction with untrained model"
      ],
      "metadata": {
        "id": "lnhI7VBi5dO3"
      }
    },
    {
      "cell_type": "code",
      "source": [
        "# we don't keep track of gradients during prediction\n",
        "with torch.inference_mode(): y_preds = model(X_test)\n",
        "visualize(predictions=y_preds)\n",
        "\n",
        "print(\n",
        "f'''\n",
        "    target y:\n",
        "    {y_preds}\n",
        "\n",
        "    predicted y:\n",
        "    {y_test}\n",
        "'''\n",
        ")\n"
      ],
      "metadata": {
        "colab": {
          "base_uri": "https://localhost:8080/",
          "height": 862
        },
        "id": "TIqvWkPO5fKd",
        "outputId": "3749a85b-0835-40a1-cbb4-d1efb88bf83c"
      },
      "execution_count": 8,
      "outputs": [
        {
          "output_type": "stream",
          "name": "stdout",
          "text": [
            "\n",
            "    target y:\n",
            "    tensor([[0.3982],\n",
            "        [0.4049],\n",
            "        [0.4116],\n",
            "        [0.4184],\n",
            "        [0.4251],\n",
            "        [0.4318],\n",
            "        [0.4386],\n",
            "        [0.4453],\n",
            "        [0.4520],\n",
            "        [0.4588]])\n",
            "\n",
            "    predicted y:\n",
            "    tensor([[0.8600],\n",
            "        [0.8740],\n",
            "        [0.8880],\n",
            "        [0.9020],\n",
            "        [0.9160],\n",
            "        [0.9300],\n",
            "        [0.9440],\n",
            "        [0.9580],\n",
            "        [0.9720],\n",
            "        [0.9860]])\n",
            "\n"
          ]
        },
        {
          "output_type": "display_data",
          "data": {
            "text/plain": [
              "<Figure size 720x504 with 1 Axes>"
            ],
            "image/png": "[encoded data removed]"
          },
          "metadata": {
            "needs_background": "light"
          }
        }
      ]
    },
    {
      "cell_type": "markdown",
      "source": [
        "# Training the model"
      ],
      "metadata": {
        "id": "hyWSeIxc6kS4"
      }
    },
    {
      "cell_type": "code",
      "source": [
        "# loss function - mean absolute error (L1 loss)\n",
        "loss_fn = nn.L1Loss()\n",
        "\n",
        "# Stochastic gradient descent with learning rate 0.01\n",
        "optimizer = torch.optim.SGD(params=model.parameters(), lr=0.01) \n",
        "\n",
        "# model progress tracking\n",
        "epochs = 200\n",
        "epoch_count = [] \n",
        "loss_values = []\n",
        "test_loss_values = [] \n",
        "\n",
        "# Training & testing loop\n",
        "for epoch in range(epochs + 1): \n",
        "\n",
        "    # Training Mode (sets all parameters to require grad)\n",
        "    model.train() \n",
        "\n",
        "    # 1. Forward pass (feeds training data to forward())\n",
        "    y_pred = model(X_train)\n",
        "\n",
        "    # 2. Calculate the loss (how wrong is the model)\n",
        "    loss = loss_fn(y_pred, y_train)\n",
        "\n",
        "    # 3. Clears the gradients (they accumulate by default)\n",
        "    optimizer.zero_grad() \n",
        "\n",
        "    # 4. Back-propagation (calculates grad of each parameter)\n",
        "    loss.backward()\n",
        "\n",
        "    # 5. Gradient-descent (updates model parameters)\n",
        "    optimizer.step() \n",
        "\n",
        "    # Evaluation Mode (turns off certain functionalities)\n",
        "    model.eval() \n",
        "\n",
        "    with torch.inference_mode():\n",
        "        # 1. Do the forward pass \n",
        "        test_pred = model(X_test)\n",
        "\n",
        "        # 2. Calculate the loss\n",
        "        test_loss = loss_fn(test_pred, y_test)\n",
        "\n",
        "    # Display information output\n",
        "    if epoch % 10 == 0:\n",
        "        epoch_count.append(epoch)\n",
        "        loss_values.append(loss)\n",
        "        test_loss_values.append(test_loss)\n",
        "        print(f\"Epoch: {epoch}  |  Loss: {loss}  |  Test loss: {test_loss}\")\n",
        "        print(f\"{model.state_dict()}\\n\") "
      ],
      "metadata": {
        "colab": {
          "base_uri": "https://localhost:8080/"
        },
        "id": "vXCLT54a6lzF",
        "outputId": "a928fa8a-1eff-49d4-bf3e-8a51944e14ba"
      },
      "execution_count": 9,
      "outputs": [
        {
          "output_type": "stream",
          "name": "stdout",
          "text": [
            "Epoch: 0  |  Loss: 0.31288138031959534  |  Test loss: 0.48106518387794495\n",
            "OrderedDict([('weight', tensor([0.3406])), ('bias', tensor([0.1388]))])\n",
            "\n",
            "Epoch: 10  |  Loss: 0.1976713240146637  |  Test loss: 0.3463551998138428\n",
            "OrderedDict([('weight', tensor([0.3796])), ('bias', tensor([0.2388]))])\n",
            "\n",
            "Epoch: 20  |  Loss: 0.08908725529909134  |  Test loss: 0.21729660034179688\n",
            "OrderedDict([('weight', tensor([0.4184])), ('bias', tensor([0.3333]))])\n",
            "\n",
            "Epoch: 30  |  Loss: 0.053148526698350906  |  Test loss: 0.14464017748832703\n",
            "OrderedDict([('weight', tensor([0.4512])), ('bias', tensor([0.3768]))])\n",
            "\n",
            "Epoch: 40  |  Loss: 0.04543796554207802  |  Test loss: 0.11360953003168106\n",
            "OrderedDict([('weight', tensor([0.4748])), ('bias', tensor([0.3868]))])\n",
            "\n",
            "Epoch: 50  |  Loss: 0.04167863354086876  |  Test loss: 0.09919948130846024\n",
            "OrderedDict([('weight', tensor([0.4938])), ('bias', tensor([0.3843]))])\n",
            "\n",
            "Epoch: 60  |  Loss: 0.03818932920694351  |  Test loss: 0.08886633068323135\n",
            "OrderedDict([('weight', tensor([0.5116])), ('bias', tensor([0.3788]))])\n",
            "\n",
            "Epoch: 70  |  Loss: 0.03476089984178543  |  Test loss: 0.0805937647819519\n",
            "OrderedDict([('weight', tensor([0.5288])), ('bias', tensor([0.3718]))])\n",
            "\n",
            "Epoch: 80  |  Loss: 0.03132382780313492  |  Test loss: 0.07232122868299484\n",
            "OrderedDict([('weight', tensor([0.5459])), ('bias', tensor([0.3648]))])\n",
            "\n",
            "Epoch: 90  |  Loss: 0.02788739837706089  |  Test loss: 0.06473556160926819\n",
            "OrderedDict([('weight', tensor([0.5629])), ('bias', tensor([0.3573]))])\n",
            "\n",
            "Epoch: 100  |  Loss: 0.024458957836031914  |  Test loss: 0.05646304413676262\n",
            "OrderedDict([('weight', tensor([0.5800])), ('bias', tensor([0.3503]))])\n",
            "\n",
            "Epoch: 110  |  Loss: 0.021020207554101944  |  Test loss: 0.04819049686193466\n",
            "OrderedDict([('weight', tensor([0.5972])), ('bias', tensor([0.3433]))])\n",
            "\n",
            "Epoch: 120  |  Loss: 0.01758546568453312  |  Test loss: 0.04060482233762741\n",
            "OrderedDict([('weight', tensor([0.6141])), ('bias', tensor([0.3358]))])\n",
            "\n",
            "Epoch: 130  |  Loss: 0.014155393466353416  |  Test loss: 0.03233227878808975\n",
            "OrderedDict([('weight', tensor([0.6313])), ('bias', tensor([0.3288]))])\n",
            "\n",
            "Epoch: 140  |  Loss: 0.010716589167714119  |  Test loss: 0.024059748277068138\n",
            "OrderedDict([('weight', tensor([0.6485])), ('bias', tensor([0.3218]))])\n",
            "\n",
            "Epoch: 150  |  Loss: 0.0072835334576666355  |  Test loss: 0.016474086791276932\n",
            "OrderedDict([('weight', tensor([0.6654])), ('bias', tensor([0.3143]))])\n",
            "\n",
            "Epoch: 160  |  Loss: 0.0038517764769494534  |  Test loss: 0.008201557211577892\n",
            "OrderedDict([('weight', tensor([0.6826])), ('bias', tensor([0.3073]))])\n",
            "\n",
            "Epoch: 170  |  Loss: 0.008932482451200485  |  Test loss: 0.005023092031478882\n",
            "OrderedDict([('weight', tensor([0.6951])), ('bias', tensor([0.2993]))])\n",
            "\n",
            "Epoch: 180  |  Loss: 0.008932482451200485  |  Test loss: 0.005023092031478882\n",
            "OrderedDict([('weight', tensor([0.6951])), ('bias', tensor([0.2993]))])\n",
            "\n",
            "Epoch: 190  |  Loss: 0.008932482451200485  |  Test loss: 0.005023092031478882\n",
            "OrderedDict([('weight', tensor([0.6951])), ('bias', tensor([0.2993]))])\n",
            "\n",
            "Epoch: 200  |  Loss: 0.008932482451200485  |  Test loss: 0.005023092031478882\n",
            "OrderedDict([('weight', tensor([0.6951])), ('bias', tensor([0.2993]))])\n",
            "\n"
          ]
        }
      ]
    },
    {
      "cell_type": "markdown",
      "source": [
        "# Predictions with trained model"
      ],
      "metadata": {
        "id": "Gm-6fPbj_j0Z"
      }
    },
    {
      "cell_type": "code",
      "source": [
        "with torch.inference_mode(): y_preds = model(X_test)\n",
        "\n",
        "visualize(predictions=y_preds)\n",
        "\n",
        "print(\n",
        "f'''\n",
        "    target weight: {weight}\n",
        "    predicted weight: {model.state_dict()[\"weight\"].item()}\n",
        "    \n",
        "    target bias: {bias}\n",
        "    predicted bias: {model.state_dict()[\"bias\"].item()}\n",
        "'''\n",
        ")\n"
      ],
      "metadata": {
        "colab": {
          "base_uri": "https://localhost:8080/",
          "height": 550
        },
        "id": "Kq28HcSY_l-3",
        "outputId": "ac9fe5d9-2399-41ec-afa1-42ae3d290582"
      },
      "execution_count": 10,
      "outputs": [
        {
          "output_type": "stream",
          "name": "stdout",
          "text": [
            "\n",
            "    target weight: 0.7\n",
            "    predicted weight: 0.6951308250427246\n",
            "    \n",
            "    target bias: 0.3\n",
            "    predicted bias: 0.29931047558784485\n",
            "\n"
          ]
        },
        {
          "output_type": "display_data",
          "data": {
            "text/plain": [
              "<Figure size 720x504 with 1 Axes>"
            ],
            "image/png": "[encoded data removed]"
          },
          "metadata": {
            "needs_background": "light"
          }
        }
      ]
    },
    {
      "cell_type": "markdown",
      "source": [
        "# Loss curves"
      ],
      "metadata": {
        "id": "aegMr1qsFE-k"
      }
    },
    {
      "cell_type": "code",
      "source": [
        "# Turn tensor into numpy array\n",
        "np_loss_values = torch.tensor(loss_values).numpy()\n",
        "\n",
        "# Plot the loss curves\n",
        "plt.plot(epoch_count, np_loss_values, label=\"train loss\")\n",
        "plt.plot(epoch_count, test_loss_values, label=\"test loss\")\n",
        "plt.title(\"Training and test loss curves\")\n",
        "plt.ylabel(\"Loss\")\n",
        "plt.xlabel(\"Epochs\")\n",
        "plt.legend();"
      ],
      "metadata": {
        "colab": {
          "base_uri": "https://localhost:8080/",
          "height": 295
        },
        "id": "o7EAKm_zFOMO",
        "outputId": "77e1dcc8-413d-42ce-c8c6-fa7e8a3e9312"
      },
      "execution_count": 11,
      "outputs": [
        {
          "output_type": "display_data",
          "data": {
            "text/plain": [
              "<Figure size 432x288 with 1 Axes>"
            ],
            "image/png": "[encoded data removed]"
          },
          "metadata": {
            "needs_background": "light"
          }
        }
      ]
    },
    {
      "cell_type": "markdown",
      "source": [
        "# Saving the model"
      ],
      "metadata": {
        "id": "a0-jh0Cko90j"
      }
    },
    {
      "cell_type": "code",
      "source": [
        "from pathlib import Path\n",
        "\n",
        "# 1. Create models directory\n",
        "MODEL_PATH = Path(\"models\")\n",
        "MODEL_PATH.mkdir(parents=True, exist_ok=True)\n",
        "\n",
        "# 2. Create model save path\n",
        "MODEL_NAME = \"01_pytorch_workflow_model_1.pth\"\n",
        "MODEL_SAVE_PATH = MODEL_PATH / MODEL_NAME\n",
        "\n",
        "# 3. Save the model state dict\n",
        "print(f\"Saving model to: {MODEL_SAVE_PATH}\")\n",
        "torch.save(model.state_dict(), MODEL_SAVE_PATH)"
      ],
      "metadata": {
        "colab": {
          "base_uri": "https://localhost:8080/"
        },
        "id": "go8E1iETpAZV",
        "outputId": "13805550-97a0-4496-8a55-d686ac7c6480"
      },
      "execution_count": 12,
      "outputs": [
        {
          "output_type": "stream",
          "name": "stdout",
          "text": [
            "Saving model to: models/01_pytorch_workflow_model_1.pth\n"
          ]
        }
      ]
    },
    {
      "cell_type": "code",
      "source": [
        "# Check if model is present\n",
        "!ls -l models"
      ],
      "metadata": {
        "colab": {
          "base_uri": "https://localhost:8080/"
        },
        "id": "228XNCYo1uAW",
        "outputId": "4c8489a3-3217-4ad9-8b6f-ccb88ccb850e"
      },
      "execution_count": 13,
      "outputs": [
        {
          "output_type": "stream",
          "name": "stdout",
          "text": [
            "total 4\n",
            "-rw-r--r-- 1 root root 1063 Nov  6 21:29 01_pytorch_workflow_model_1.pth\n"
          ]
        }
      ]
    },
    {
      "cell_type": "markdown",
      "source": [
        "# Loading the Model"
      ],
      "metadata": {
        "id": "H_iTEmwiy5Lk"
      }
    },
    {
      "cell_type": "code",
      "source": [
        "# To load in a saved state_dict we have to instantiate a new instance of our model class\n",
        "loaded_model = LinearRegressionModel()\n",
        "\n",
        "# Load the saved state_dict of model (this will update the new instance with updated parameters)\n",
        "loaded_model.load_state_dict(torch.load(f=MODEL_SAVE_PATH))\n",
        "\n",
        "# Make some predictions with our loaded model\n",
        "loaded_model.eval()\n",
        "with torch.inference_mode(): loaded_model_preds = loaded_model(X_test)\n",
        "\n",
        "# Compare loaded model preds with original model preds\n",
        "y_preds == loaded_model_preds"
      ],
      "metadata": {
        "colab": {
          "base_uri": "https://localhost:8080/"
        },
        "id": "YIWoRcZsy8Ui",
        "outputId": "cd340218-c2aa-41d9-fddf-28e07107cc55"
      },
      "execution_count": 14,
      "outputs": [
        {
          "output_type": "execute_result",
          "data": {
            "text/plain": [
              "tensor([[True],\n",
              "        [True],\n",
              "        [True],\n",
              "        [True],\n",
              "        [True],\n",
              "        [True],\n",
              "        [True],\n",
              "        [True],\n",
              "        [True],\n",
              "        [True]])"
            ]
          },
          "metadata": {},
          "execution_count": 14
        }
      ]
    }
  ]
}
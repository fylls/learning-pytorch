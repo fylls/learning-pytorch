{
  "nbformat": 4,
  "nbformat_minor": 0,
  "metadata": {
    "colab": {
      "provenance": []
    },
    "kernelspec": {
      "name": "python3",
      "display_name": "Python 3"
    },
    "language_info": {
      "name": "python"
    },
    "gpuClass": "standard",
    "accelerator": "GPU"
  },
  "cells": [
    {
      "cell_type": "markdown",
      "source": [
        "# 📈 **AI Linear Regression** 🚀\n",
        "\n",
        "chapter 1: **PyTorch Workflow Fundamentals**\n",
        "\n",
        "https://www.youtube.com/watch?v=Z_ikDlimN6A"
      ],
      "metadata": {
        "id": "kP9Fk6dL06TM"
      }
    },
    {
      "cell_type": "markdown",
      "source": [
        "# Imports"
      ],
      "metadata": {
        "id": "QrVubSM-qAPT"
      }
    },
    {
      "cell_type": "code",
      "source": [
        "import torch\n",
        "import numpy as np\n",
        "from torch import nn\n",
        "import matplotlib.pyplot as plt\n",
        "\n",
        "# check PyTorch version\n",
        "torch.__version__"
      ],
      "metadata": {
        "colab": {
          "base_uri": "https://localhost:8080/",
          "height": 35
        },
        "id": "rSF_cTV105lg",
        "outputId": "8f37fa55-f1b2-4076-bfe5-a93d316ec627"
      },
      "execution_count": 1,
      "outputs": [
        {
          "output_type": "execute_result",
          "data": {
            "text/plain": [
              "'1.12.1+cu113'"
            ],
            "application/vnd.google.colaboratory.intrinsic+json": {
              "type": "string"
            }
          },
          "metadata": {},
          "execution_count": 1
        }
      ]
    },
    {
      "cell_type": "markdown",
      "source": [
        "# Device-agnostic setup"
      ],
      "metadata": {
        "id": "sYTX5RMmzxGi"
      }
    },
    {
      "cell_type": "code",
      "source": [
        "# If we have a GPU, our code will use it for faster computing\n",
        "device = \"cuda\" if torch.cuda.is_available() else \"cpu\"\n",
        "print(f\"Using device: {device}\\n\")\n",
        "\n",
        "# Check GPU type\n",
        "!nvidia-smi"
      ],
      "metadata": {
        "colab": {
          "base_uri": "https://localhost:8080/"
        },
        "id": "VaWd0LPRz5ld",
        "outputId": "e88526ed-6f6e-4599-b8f6-ef442190d891"
      },
      "execution_count": 2,
      "outputs": [
        {
          "output_type": "stream",
          "name": "stdout",
          "text": [
            "Using device: cuda\n",
            "\n",
            "Sun Nov  6 23:15:55 2022       \n",
            "+-----------------------------------------------------------------------------+\n",
            "| NVIDIA-SMI 460.32.03    Driver Version: 460.32.03    CUDA Version: 11.2     |\n",
            "|-------------------------------+----------------------+----------------------+\n",
            "| GPU  Name        Persistence-M| Bus-Id        Disp.A | Volatile Uncorr. ECC |\n",
            "| Fan  Temp  Perf  Pwr:Usage/Cap|         Memory-Usage | GPU-Util  Compute M. |\n",
            "|                               |                      |               MIG M. |\n",
            "|===============================+======================+======================|\n",
            "|   0  Tesla T4            Off  | 00000000:00:04.0 Off |                    0 |\n",
            "| N/A   59C    P8    11W /  70W |      3MiB / 15109MiB |      0%      Default |\n",
            "|                               |                      |                  N/A |\n",
            "+-------------------------------+----------------------+----------------------+\n",
            "                                                                               \n",
            "+-----------------------------------------------------------------------------+\n",
            "| Processes:                                                                  |\n",
            "|  GPU   GI   CI        PID   Type   Process name                  GPU Memory |\n",
            "|        ID   ID                                                   Usage      |\n",
            "|=============================================================================|\n",
            "|  No running processes found                                                 |\n",
            "+-----------------------------------------------------------------------------+\n"
          ]
        }
      ]
    },
    {
      "cell_type": "markdown",
      "source": [
        "# Data preparation"
      ],
      "metadata": {
        "id": "KQ_vBJVu1YXO"
      }
    },
    {
      "cell_type": "code",
      "source": [
        "# Known parameters\n",
        "weight = 0.7\n",
        "bias = 0.3\n",
        "\n",
        "# Range values\n",
        "start = 0\n",
        "end = 1\n",
        "step = 0.02\n",
        "\n",
        "# Features and lables\n",
        "X = torch.arange(start, end, step).unsqueeze(dim=1)\n",
        "y = weight * X + bias \n",
        "\n",
        "print(\n",
        "f'''\n",
        "    X set:\n",
        "    {X[:10]}\n",
        "\n",
        "    y set:\n",
        "    {y[:10]}\n",
        "'''\n",
        ")"
      ],
      "metadata": {
        "colab": {
          "base_uri": "https://localhost:8080/"
        },
        "id": "V1qRRatG1a0-",
        "outputId": "7ace3b62-f46d-4b2e-9b84-ca0cdcb6b188"
      },
      "execution_count": 3,
      "outputs": [
        {
          "output_type": "stream",
          "name": "stdout",
          "text": [
            "\n",
            "    X set:\n",
            "    tensor([[0.0000],\n",
            "        [0.0200],\n",
            "        [0.0400],\n",
            "        [0.0600],\n",
            "        [0.0800],\n",
            "        [0.1000],\n",
            "        [0.1200],\n",
            "        [0.1400],\n",
            "        [0.1600],\n",
            "        [0.1800]])\n",
            "\n",
            "    y set:\n",
            "    tensor([[0.3000],\n",
            "        [0.3140],\n",
            "        [0.3280],\n",
            "        [0.3420],\n",
            "        [0.3560],\n",
            "        [0.3700],\n",
            "        [0.3840],\n",
            "        [0.3980],\n",
            "        [0.4120],\n",
            "        [0.4260]])\n",
            "\n"
          ]
        }
      ]
    },
    {
      "cell_type": "markdown",
      "source": [
        "# Splitting train/test\n"
      ],
      "metadata": {
        "id": "MBebT4l31qJj"
      }
    },
    {
      "cell_type": "code",
      "source": [
        "# Create training and testing set\n",
        "train_split = int(0.8 * len(X))\n",
        "X_train, y_train = X[:train_split], y[:train_split]\n",
        "X_test, y_test = X[train_split:], y[train_split:] \n",
        "\n",
        "\n",
        "print(\n",
        "f'''\n",
        "    X_train length: {len(X_train)}\n",
        "    X_test length: {len(X_test)}\n",
        "    \n",
        "    y_train length: {len(y_train)}\n",
        "    y_test length: {len(y_test)}\n",
        "'''\n",
        ")"
      ],
      "metadata": {
        "colab": {
          "base_uri": "https://localhost:8080/"
        },
        "id": "qsFBrfRd1sm-",
        "outputId": "7991baf9-0efe-4cbf-ccfb-60d3b9b9b463"
      },
      "execution_count": 4,
      "outputs": [
        {
          "output_type": "stream",
          "name": "stdout",
          "text": [
            "\n",
            "    X_train length: 40\n",
            "    X_test length: 10\n",
            "    \n",
            "    y_train length: 40\n",
            "    y_test length: 10\n",
            "\n"
          ]
        }
      ]
    },
    {
      "cell_type": "markdown",
      "source": [
        "# Data visualization"
      ],
      "metadata": {
        "id": "NEr4VlqB3cLb"
      }
    },
    {
      "cell_type": "code",
      "source": [
        "def visualize(\n",
        "    train_data=X_train,\n",
        "    train_labels=y_train,\n",
        "    test_data=X_test,\n",
        "    test_labels=y_test,\n",
        "    predictions=None):\n",
        "    \n",
        "    \"\"\" Plots training data, test data and compares predictions \"\"\"\n",
        "\n",
        "    plt.figure(figsize=(10, 7))\n",
        "\n",
        "    # Plot training data in blue\n",
        "    plt.scatter(train_data, train_labels, c=\"b\", s=4, label=\"Training data\")\n",
        "\n",
        "    # Plot test data in cyan\n",
        "    plt.scatter(test_data, test_labels, c=\"c\", s=4, label=\"Testing data\")\n",
        "\n",
        "    # Plot the predictions in red if they exist\n",
        "    if predictions is not None: \n",
        "        plt.scatter(test_data, predictions, c=\"r\", s=4, label=\"Predictions\")\n",
        "  \n",
        "    # Show the legend\n",
        "    plt.legend(prop={\"size\": 14});\n",
        "\n",
        "visualize();"
      ],
      "metadata": {
        "colab": {
          "base_uri": "https://localhost:8080/",
          "height": 428
        },
        "id": "TojOsyld3eL9",
        "outputId": "64c166a5-66b2-4767-99ab-3a767c7c818c"
      },
      "execution_count": 5,
      "outputs": [
        {
          "output_type": "display_data",
          "data": {
            "text/plain": [
              "<Figure size 720x504 with 1 Axes>"
            ],
            "image/png": "[encoded data removed]"
          },
          "metadata": {
            "needs_background": "light"
          }
        }
      ]
    },
    {
      "cell_type": "markdown",
      "source": [
        "# Model building"
      ],
      "metadata": {
        "id": "zD9-2YXF4K_f"
      }
    },
    {
      "cell_type": "code",
      "source": [
        "from torch import nn\n",
        "\n",
        "class LinearRegressionModel(nn.Module):\n",
        "\n",
        "    def __init__(self):\n",
        "        super().__init__()\n",
        "        self.linear_layer = nn.Linear(in_features=1, out_features=1)\n",
        "    \n",
        "    def forward(self, x: torch.Tensor) -> torch.Tensor:\n",
        "        return self.linear_layer(x)          \n",
        "    \n",
        "# this is how the model is implemented under the hood\n",
        "class NaiveRegressionModel(nn.Module):\n",
        "\n",
        "    def __init__(self):\n",
        "        super().__init__()\n",
        "        # we start with a random weight parameters, they are updated via gradient descent\n",
        "        self.weight = nn.Parameter(torch.randn(1, requires_grad=True, dtype=torch.float)) \n",
        "        self.bias = nn.Parameter(torch.randn(1, requires_grad=True, dtype=torch.float)) \n",
        "    \n",
        "    # Forward methoddefines the computation in the model\n",
        "    def forward(self, x: torch.Tensor) -> torch.Tensor:\n",
        "        return self.weight * x + self.bias "
      ],
      "metadata": {
        "id": "63Jj1F544MUA"
      },
      "execution_count": 6,
      "outputs": []
    },
    {
      "cell_type": "markdown",
      "source": [
        "# Parameter exploration"
      ],
      "metadata": {
        "id": "Jz07qzun5KJP"
      }
    },
    {
      "cell_type": "code",
      "source": [
        "# Create model and list name parameters\n",
        "torch.manual_seed(42)\n",
        "model = LinearRegressionModel()\n",
        "model.state_dict()"
      ],
      "metadata": {
        "colab": {
          "base_uri": "https://localhost:8080/"
        },
        "id": "t8NC1tsS5NE0",
        "outputId": "4008a070-6389-4a11-edf6-833984e877aa"
      },
      "execution_count": 7,
      "outputs": [
        {
          "output_type": "execute_result",
          "data": {
            "text/plain": [
              "OrderedDict([('linear_layer.weight', tensor([[0.7645]])),\n",
              "             ('linear_layer.bias', tensor([0.8300]))])"
            ]
          },
          "metadata": {},
          "execution_count": 7
        }
      ]
    },
    {
      "cell_type": "markdown",
      "source": [
        "# Optimize for Device"
      ],
      "metadata": {
        "id": "vbsZh62DGOV6"
      }
    },
    {
      "cell_type": "code",
      "source": [
        "# Check Model current device\n",
        "next(model.parameters()).device"
      ],
      "metadata": {
        "colab": {
          "base_uri": "https://localhost:8080/"
        },
        "id": "co3o-a_V9pxL",
        "outputId": "36e94b6b-c9ac-4053-fd38-d3db3a35d7b9"
      },
      "execution_count": 8,
      "outputs": [
        {
          "output_type": "execute_result",
          "data": {
            "text/plain": [
              "device(type='cpu')"
            ]
          },
          "metadata": {},
          "execution_count": 8
        }
      ]
    },
    {
      "cell_type": "code",
      "source": [
        "# Set the model to target device\n",
        "model.to(device)\n",
        "next(model.parameters()).device"
      ],
      "metadata": {
        "colab": {
          "base_uri": "https://localhost:8080/"
        },
        "id": "djI778iO9tbk",
        "outputId": "de3ba242-c3c2-42e6-88f3-cc8e7f7ff553"
      },
      "execution_count": 9,
      "outputs": [
        {
          "output_type": "execute_result",
          "data": {
            "text/plain": [
              "device(type='cuda', index=0)"
            ]
          },
          "metadata": {},
          "execution_count": 9
        }
      ]
    },
    {
      "cell_type": "code",
      "source": [
        "# Put data on the target device\n",
        "X_train = X_train.to(device)\n",
        "y_train = y_train.to(device)\n",
        "X_test = X_test.to(device)\n",
        "y_test = y_test.to(device)\n",
        "print(f\"successfully moved data to device:{device}\")"
      ],
      "metadata": {
        "colab": {
          "base_uri": "https://localhost:8080/"
        },
        "id": "7I_wiB3bGVyg",
        "outputId": "182b94dd-b35b-496f-f69d-b829c6bf8cbc"
      },
      "execution_count": 10,
      "outputs": [
        {
          "output_type": "stream",
          "name": "stdout",
          "text": [
            "successfully moved data to device:cuda\n"
          ]
        }
      ]
    },
    {
      "cell_type": "markdown",
      "source": [
        "# Prediction with untrained model"
      ],
      "metadata": {
        "id": "lnhI7VBi5dO3"
      }
    },
    {
      "cell_type": "code",
      "source": [
        "model.eval()\n",
        "with torch.inference_mode(): y_preds = model(X_test)\n",
        "visualize(predictions=y_preds.cpu())\n",
        "\n",
        "print(\n",
        "f'''\n",
        "    target weight: {weight}\n",
        "    predicted weight: {model.state_dict()['linear_layer.weight'].item()}\n",
        "    \n",
        "    target bias: {bias}\n",
        "    predicted bias: {model.state_dict()['linear_layer.bias'].item()}\n",
        "\n",
        "    target y:\n",
        "    {y_preds.cpu()}\n",
        "\n",
        "    predicted y:\n",
        "    {y_test.cpu()}\n",
        "'''\n",
        ")"
      ],
      "metadata": {
        "colab": {
          "base_uri": "https://localhost:8080/",
          "height": 966
        },
        "id": "TIqvWkPO5fKd",
        "outputId": "515bceae-c744-45d7-bf02-254b8fdba824"
      },
      "execution_count": 11,
      "outputs": [
        {
          "output_type": "stream",
          "name": "stdout",
          "text": [
            "\n",
            "    target weight: 0.7\n",
            "    predicted weight: 0.7645385265350342\n",
            "    \n",
            "    target bias: 0.3\n",
            "    predicted bias: 0.8300079107284546\n",
            "\n",
            "    target y:\n",
            "    tensor([[1.4416],\n",
            "        [1.4569],\n",
            "        [1.4722],\n",
            "        [1.4875],\n",
            "        [1.5028],\n",
            "        [1.5181],\n",
            "        [1.5334],\n",
            "        [1.5487],\n",
            "        [1.5640],\n",
            "        [1.5793]])\n",
            "\n",
            "    predicted y:\n",
            "    tensor([[0.8600],\n",
            "        [0.8740],\n",
            "        [0.8880],\n",
            "        [0.9020],\n",
            "        [0.9160],\n",
            "        [0.9300],\n",
            "        [0.9440],\n",
            "        [0.9580],\n",
            "        [0.9720],\n",
            "        [0.9860]])\n",
            "\n"
          ]
        },
        {
          "output_type": "display_data",
          "data": {
            "text/plain": [
              "<Figure size 720x504 with 1 Axes>"
            ],
            "image/png": "[encoded data removed]"
          },
          "metadata": {
            "needs_background": "light"
          }
        }
      ]
    },
    {
      "cell_type": "markdown",
      "source": [
        "# Training the model"
      ],
      "metadata": {
        "id": "hyWSeIxc6kS4"
      }
    },
    {
      "cell_type": "code",
      "source": [
        "# set reproducibility (seed)\n",
        "torch.manual_seed(42)\n",
        "\n",
        "# Loss function - mean absolute error (L1 loss)\n",
        "loss_fn = nn.L1Loss()\n",
        "\n",
        "# Stochastic gradient descent with learning rate 0.01\n",
        "optimizer = torch.optim.SGD(params=model.parameters(), lr=0.01) \n",
        "\n",
        "# model progress tracking\n",
        "epochs = 250\n",
        "epoch_count = [] \n",
        "loss_values = []\n",
        "test_loss_values = [] \n",
        "\n",
        "# Training & testing loop\n",
        "for epoch in range(epochs + 1): \n",
        "\n",
        "    # Training Mode (sets all parameters to require grad)\n",
        "    model.train() \n",
        "\n",
        "    # 1. Forward pass (feeds training data to forward())\n",
        "    y_pred = model(X_train)\n",
        "\n",
        "    # 2. Calculate the loss (how wrong is the model)\n",
        "    loss = loss_fn(y_pred, y_train)\n",
        "\n",
        "    # 3. Clears the gradients (they accumulate by default)\n",
        "    optimizer.zero_grad() \n",
        "\n",
        "    # 4. Back-propagation (calculates grad of each parameter)\n",
        "    loss.backward()\n",
        "\n",
        "    # 5. Gradient-descent (updates model parameters)\n",
        "    optimizer.step() \n",
        "\n",
        "    # Evaluation Mode (turns off certain functionalities)\n",
        "    model.eval() \n",
        "\n",
        "    with torch.inference_mode():\n",
        "        # 1. Do the forward pass \n",
        "        test_pred = model(X_test)\n",
        "\n",
        "        # 2. Calculate the loss\n",
        "        test_loss = loss_fn(test_pred, y_test)\n",
        "\n",
        "    # Display information output\n",
        "    if epoch % 20 == 0:\n",
        "        epoch_count.append(epoch)\n",
        "        loss_values.append(loss)\n",
        "        test_loss_values.append(test_loss)\n",
        "        weight_pred = model.state_dict()['linear_layer.weight'].item()\n",
        "        bias_pred = model.state_dict()['linear_layer.bias'].item()\n",
        "        print(f\"Epoch: {epoch}  |  Loss: {loss}  |  Test loss: {test_loss}\")\n",
        "        print(f\"Weight: {weight_pred}  |  Bias: {bias_pred}\\n\")"
      ],
      "metadata": {
        "colab": {
          "base_uri": "https://localhost:8080/"
        },
        "id": "vXCLT54a6lzF",
        "outputId": "49a9e634-0419-40fe-8155-78dddb9caf6d"
      },
      "execution_count": 12,
      "outputs": [
        {
          "output_type": "stream",
          "name": "stdout",
          "text": [
            "Epoch: 0  |  Loss: 0.5551779866218567  |  Test loss: 0.5739762187004089\n",
            "Weight: 0.7606385350227356  |  Bias: 0.8200079202651978\n",
            "\n",
            "Epoch: 20  |  Loss: 0.3247582018375397  |  Test loss: 0.30455657839775085\n",
            "Weight: 0.6826387047767639  |  Bias: 0.620008111000061\n",
            "\n",
            "Epoch: 40  |  Loss: 0.09433845430612564  |  Test loss: 0.03513690456748009\n",
            "Weight: 0.6046388745307922  |  Bias: 0.4200083017349243\n",
            "\n",
            "Epoch: 60  |  Loss: 0.019956795498728752  |  Test loss: 0.045803118497133255\n",
            "Weight: 0.6024590134620667  |  Bias: 0.34100836515426636\n",
            "\n",
            "Epoch: 80  |  Loss: 0.013089174404740334  |  Test loss: 0.02994490973651409\n",
            "Weight: 0.6365691423416138  |  Bias: 0.3265085518360138\n",
            "\n",
            "Epoch: 100  |  Loss: 0.006215683650225401  |  Test loss: 0.014086711220443249\n",
            "Weight: 0.6706792712211609  |  Bias: 0.31200873851776123\n",
            "\n",
            "Epoch: 120  |  Loss: 0.0012645035749301314  |  Test loss: 0.013801801018416882\n",
            "Weight: 0.6929093599319458  |  Bias: 0.2925088703632355\n",
            "\n",
            "Epoch: 140  |  Loss: 0.0012645035749301314  |  Test loss: 0.013801801018416882\n",
            "Weight: 0.6929093599319458  |  Bias: 0.2925088703632355\n",
            "\n",
            "Epoch: 160  |  Loss: 0.0012645035749301314  |  Test loss: 0.013801801018416882\n",
            "Weight: 0.6929093599319458  |  Bias: 0.2925088703632355\n",
            "\n",
            "Epoch: 180  |  Loss: 0.0012645035749301314  |  Test loss: 0.013801801018416882\n",
            "Weight: 0.6929093599319458  |  Bias: 0.2925088703632355\n",
            "\n",
            "Epoch: 200  |  Loss: 0.0012645035749301314  |  Test loss: 0.013801801018416882\n",
            "Weight: 0.6929093599319458  |  Bias: 0.2925088703632355\n",
            "\n",
            "Epoch: 220  |  Loss: 0.0012645035749301314  |  Test loss: 0.013801801018416882\n",
            "Weight: 0.6929093599319458  |  Bias: 0.2925088703632355\n",
            "\n",
            "Epoch: 240  |  Loss: 0.0012645035749301314  |  Test loss: 0.013801801018416882\n",
            "Weight: 0.6929093599319458  |  Bias: 0.2925088703632355\n",
            "\n"
          ]
        }
      ]
    },
    {
      "cell_type": "markdown",
      "source": [
        "# Predictions with trained model"
      ],
      "metadata": {
        "id": "Gm-6fPbj_j0Z"
      }
    },
    {
      "cell_type": "code",
      "source": [
        "model.eval()\n",
        "with torch.inference_mode(): y_preds = model(X_test)\n",
        "\n",
        "visualize(predictions=y_preds.cpu())\n",
        "\n",
        "print(\n",
        "f'''\n",
        "    target weight: {weight}\n",
        "    predicted weight: {model.state_dict()['linear_layer.weight'].item()}\n",
        "    \n",
        "    target bias: {bias}\n",
        "    predicted bias: {model.state_dict()['linear_layer.bias'].item()}\n",
        "\n",
        "    target y:\n",
        "    {y_preds.cpu()}\n",
        "\n",
        "    predicted y:\n",
        "    {y_test.cpu()}\n",
        "'''\n",
        ")\n"
      ],
      "metadata": {
        "colab": {
          "base_uri": "https://localhost:8080/",
          "height": 966
        },
        "id": "Kq28HcSY_l-3",
        "outputId": "9e1c21b3-cebc-401d-f163-817af212b8b0"
      },
      "execution_count": 13,
      "outputs": [
        {
          "output_type": "stream",
          "name": "stdout",
          "text": [
            "\n",
            "    target weight: 0.7\n",
            "    predicted weight: 0.6929093599319458\n",
            "    \n",
            "    target bias: 0.3\n",
            "    predicted bias: 0.2925088703632355\n",
            "\n",
            "    target y:\n",
            "    tensor([[0.8468],\n",
            "        [0.8607],\n",
            "        [0.8746],\n",
            "        [0.8884],\n",
            "        [0.9023],\n",
            "        [0.9161],\n",
            "        [0.9300],\n",
            "        [0.9438],\n",
            "        [0.9577],\n",
            "        [0.9716]])\n",
            "\n",
            "    predicted y:\n",
            "    tensor([[0.8600],\n",
            "        [0.8740],\n",
            "        [0.8880],\n",
            "        [0.9020],\n",
            "        [0.9160],\n",
            "        [0.9300],\n",
            "        [0.9440],\n",
            "        [0.9580],\n",
            "        [0.9720],\n",
            "        [0.9860]])\n",
            "\n"
          ]
        },
        {
          "output_type": "display_data",
          "data": {
            "text/plain": [
              "<Figure size 720x504 with 1 Axes>"
            ],
            "image/png": "[encoded data removed]"
          },
          "metadata": {
            "needs_background": "light"
          }
        }
      ]
    },
    {
      "cell_type": "markdown",
      "source": [
        "# Loss curves"
      ],
      "metadata": {
        "id": "aegMr1qsFE-k"
      }
    },
    {
      "cell_type": "code",
      "source": [
        "# Turn tensor into numpy array\n",
        "loss_values = torch.tensor(loss_values).cpu().numpy()\n",
        "test_loss_values = torch.tensor(test_loss_values).cpu().numpy()\n",
        "\n",
        "# Plot the loss curves\n",
        "plt.plot(epoch_count, loss_values, label=\"train loss\")\n",
        "plt.plot(epoch_count, test_loss_values, label=\"test loss\")\n",
        "plt.title(\"Training and test loss curves\")\n",
        "plt.ylabel(\"Loss\")\n",
        "plt.xlabel(\"Epochs\")\n",
        "plt.legend();"
      ],
      "metadata": {
        "colab": {
          "base_uri": "https://localhost:8080/",
          "height": 295
        },
        "id": "o7EAKm_zFOMO",
        "outputId": "6d7695e4-2f1a-4425-832e-9ebdc356d1bd"
      },
      "execution_count": 14,
      "outputs": [
        {
          "output_type": "display_data",
          "data": {
            "text/plain": [
              "<Figure size 432x288 with 1 Axes>"
            ],
            "image/png": "[encoded data removed]"
          },
          "metadata": {
            "needs_background": "light"
          }
        }
      ]
    },
    {
      "cell_type": "markdown",
      "source": [
        "# Saving the model"
      ],
      "metadata": {
        "id": "a0-jh0Cko90j"
      }
    },
    {
      "cell_type": "code",
      "source": [
        "from pathlib import Path\n",
        "\n",
        "# 1. Create models directory\n",
        "MODEL_PATH = Path(\"models\")\n",
        "MODEL_PATH.mkdir(parents=True, exist_ok=True)\n",
        "\n",
        "# 2. Create model save path\n",
        "MODEL_NAME = \"01_pytorch_workflow_model_1.pth\"\n",
        "MODEL_SAVE_PATH = MODEL_PATH / MODEL_NAME\n",
        "\n",
        "# 3. Save the model state dict\n",
        "print(f\"Saving model to: {MODEL_SAVE_PATH}\")\n",
        "torch.save(model.state_dict(), MODEL_SAVE_PATH)"
      ],
      "metadata": {
        "colab": {
          "base_uri": "https://localhost:8080/"
        },
        "id": "go8E1iETpAZV",
        "outputId": "d56c8800-50e4-47af-8723-9f16fedfff0a"
      },
      "execution_count": 15,
      "outputs": [
        {
          "output_type": "stream",
          "name": "stdout",
          "text": [
            "Saving model to: models/01_pytorch_workflow_model_1.pth\n"
          ]
        }
      ]
    },
    {
      "cell_type": "code",
      "source": [
        "# Check if model is present\n",
        "!ls -l models"
      ],
      "metadata": {
        "colab": {
          "base_uri": "https://localhost:8080/"
        },
        "id": "228XNCYo1uAW",
        "outputId": "7e25634a-69f3-456b-98ff-1a6dc65635a8"
      },
      "execution_count": 16,
      "outputs": [
        {
          "output_type": "stream",
          "name": "stdout",
          "text": [
            "total 4\n",
            "-rw-r--r-- 1 root root 1127 Nov  6 23:15 01_pytorch_workflow_model_1.pth\n"
          ]
        }
      ]
    },
    {
      "cell_type": "markdown",
      "source": [
        "# Loading the Model"
      ],
      "metadata": {
        "id": "H_iTEmwiy5Lk"
      }
    },
    {
      "cell_type": "code",
      "source": [
        "# To load in a saved state_dict we have to instantiate a new instance of our model class\n",
        "loaded_model = LinearRegressionModel()\n",
        "\n",
        "# Load the saved state_dict of model (updated parameters)\n",
        "loaded_model.load_state_dict(torch.load(f=MODEL_SAVE_PATH))\n",
        "\n",
        "# Put the loaded model to device\n",
        "loaded_model.to(device)"
      ],
      "metadata": {
        "colab": {
          "base_uri": "https://localhost:8080/"
        },
        "id": "YIWoRcZsy8Ui",
        "outputId": "3bb51f0b-196d-43e3-b8d1-52df73144ad6"
      },
      "execution_count": 17,
      "outputs": [
        {
          "output_type": "execute_result",
          "data": {
            "text/plain": [
              "LinearRegressionModel(\n",
              "  (linear_layer): Linear(in_features=1, out_features=1, bias=True)\n",
              ")"
            ]
          },
          "metadata": {},
          "execution_count": 17
        }
      ]
    },
    {
      "cell_type": "code",
      "source": [
        "next(loaded_model.parameters()).device"
      ],
      "metadata": {
        "colab": {
          "base_uri": "https://localhost:8080/"
        },
        "id": "tDmhHMMVMwgu",
        "outputId": "0646196e-6081-46cd-849a-55243ca1f0eb"
      },
      "execution_count": 18,
      "outputs": [
        {
          "output_type": "execute_result",
          "data": {
            "text/plain": [
              "device(type='cuda', index=0)"
            ]
          },
          "metadata": {},
          "execution_count": 18
        }
      ]
    },
    {
      "cell_type": "code",
      "source": [
        "loaded_model.state_dict()"
      ],
      "metadata": {
        "colab": {
          "base_uri": "https://localhost:8080/"
        },
        "id": "yDbrnvjxM1dG",
        "outputId": "7974f727-7428-4e09-a744-9d7150ae1a2b"
      },
      "execution_count": 19,
      "outputs": [
        {
          "output_type": "execute_result",
          "data": {
            "text/plain": [
              "OrderedDict([('linear_layer.weight', tensor([[0.6929]], device='cuda:0')),\n",
              "             ('linear_layer.bias', tensor([0.2925], device='cuda:0'))])"
            ]
          },
          "metadata": {},
          "execution_count": 19
        }
      ]
    },
    {
      "cell_type": "code",
      "source": [
        "# Make some predictions with our loaded model\n",
        "loaded_model.eval()\n",
        "with torch.inference_mode(): loaded_model_preds = loaded_model(X_test)\n",
        "\n",
        "# Compare loaded model preds with original model preds\n",
        "y_preds == loaded_model_preds"
      ],
      "metadata": {
        "colab": {
          "base_uri": "https://localhost:8080/"
        },
        "id": "miS-yDgOMy50",
        "outputId": "d0604ad5-81b2-45af-b147-f731c954f7cc"
      },
      "execution_count": 20,
      "outputs": [
        {
          "output_type": "execute_result",
          "data": {
            "text/plain": [
              "tensor([[True],\n",
              "        [True],\n",
              "        [True],\n",
              "        [True],\n",
              "        [True],\n",
              "        [True],\n",
              "        [True],\n",
              "        [True],\n",
              "        [True],\n",
              "        [True]], device='cuda:0')"
            ]
          },
          "metadata": {},
          "execution_count": 20
        }
      ]
    }
  ]
}